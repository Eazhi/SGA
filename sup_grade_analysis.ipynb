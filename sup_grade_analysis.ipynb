{
 "cells": [
  {
   "cell_type": "code",
   "execution_count": null,
   "metadata": {},
   "outputs": [],
   "source": [
    "import pandas as pd\n",
    "import matplotlib.pyplot as plt\n",
    "import numpy as np\n",
    "import seaborn as sns\n",
    "import ipywidgets as widgets\n",
    "import glob\n",
    "import os\n",
    "\n",
    "# If you want to widen the page\n",
    "# you can modify *width* to the one you prefer\n",
    "\n",
    "from IPython.core.display import display, HTML\n",
    "display(HTML(\"<style>.container { width:80% !important; }</style>\"))"
   ]
  },
  {
   "cell_type": "code",
   "execution_count": null,
   "metadata": {
    "scrolled": true
   },
   "outputs": [],
   "source": [
    "# Get files\n",
    "files = [f for f in glob.glob(os.getcwd() + \"/*.xlsx\")]\n",
    "raw_files = [f.split('/')[-1].split('\\\\')[-1] for f in files]\n",
    "\n",
    "# Because I can.\n",
    "practical_nb = widgets.Select(\n",
    "    options=raw_files,\n",
    "    value=raw_files[0],\n",
    "    rows=10,\n",
    "    description='practical:',\n",
    "    disabled=False\n",
    ")\n",
    "\n",
    "def read_practical(file):\n",
    "    # Practical selection\n",
    "\n",
    "    TP = pd.ExcelFile(file)\n",
    "\n",
    "    # Grade Processing\n",
    "\n",
    "    df = dict()\n",
    "    for sheet in TP.sheet_names[1:]:\n",
    "        df[sheet] = TP.parse(sheet, header=None)\n",
    "\n",
    "    # Getting all the different exercises\n",
    "    cols = []\n",
    "\n",
    "    for i in range(len(df['promo'].loc[0])):\n",
    "            exercise = str(df['promo'].loc[int(str(df['promo'].loc[0][i]) == 'nan')][i]) # append second line if first line is nan\n",
    "            while (exercise in cols and str(exercise) != 'nan'):\n",
    "                exercise += \"_\"\n",
    "            cols.append(exercise)\n",
    "            \n",
    "    # Grouping columns two by two, so that each column represent one exercise\n",
    "    for i in range(len(cols)):\n",
    "        if str(cols[i]) == 'nan':\n",
    "            cols[i] = cols[i-1] + \"_to_drop\"\n",
    "            \n",
    "    cols[0] = 'login' # Just in case someone forgets...\n",
    "\n",
    "    promo = pd.DataFrame()\n",
    "\n",
    "    # Data cleaning for every sheet in the .xlsx\n",
    "    for sheet in TP.sheet_names[2 - ('CTRL' in file):]:\n",
    "        df[sheet].columns = cols\n",
    "        df[sheet].drop([0, 1, 2], inplace=True)\n",
    "        df[sheet][cols[4:-2]] = df[sheet][cols[4:-2]].apply(lambda a: pd.to_numeric(a, errors='coerce'))\n",
    "        df[sheet].set_index('login', inplace=True)\n",
    "        df[sheet]['corrector'].fillna(method='ffill', inplace=True)\n",
    "        df[sheet].fillna(0, inplace=True)\n",
    "        for i in range(4, len(cols) - 3, 2):\n",
    "            df[sheet][cols[i]] += df[sheet][cols[i+1]]\n",
    "            df[sheet][cols[i]].apply(lambda a: a if a <= 2 else 2) # Check typo in grades\n",
    "        df[sheet].drop(cols[5:-2:2], axis=1, inplace = True)\n",
    "        df[sheet]['total'] = df[sheet][cols[4:-2:2]].sum(axis=1) / (len(cols) - 6) * 100\n",
    "        promo = pd.concat([promo, df[sheet]])\n",
    "    return promo\n",
    "\n",
    "practicals = [read_practical(f) for f in files]"
   ]
  },
  {
   "cell_type": "raw",
   "metadata": {},
   "source": [
    "# Visualization part"
   ]
  },
  {
   "cell_type": "code",
   "execution_count": null,
   "metadata": {},
   "outputs": [],
   "source": [
    "display(practical_nb)"
   ]
  },
  {
   "cell_type": "code",
   "execution_count": null,
   "metadata": {
    "scrolled": false
   },
   "outputs": [],
   "source": [
    "# Normalization\n",
    "\n",
    "print(files[raw_files.index(practical_nb.value)])\n",
    "\n",
    "stats_promo = practicals[raw_files.index(practical_nb.value)].groupby(['gr']).mean()\n",
    "stats_promo.loc[:, stats_promo.columns != 'total'] *= 50 # Everything is in % now"
   ]
  },
  {
   "cell_type": "code",
   "execution_count": null,
   "metadata": {},
   "outputs": [],
   "source": [
    "# Overview of exercise succes for each class\n",
    "\n",
    "plt.figure(figsize=(len(stats_promo.columns),8))\n",
    "sns.heatmap(stats_promo, vmin=0, vmax=100, annot=True, cmap='Greens')"
   ]
  },
  {
   "cell_type": "code",
   "execution_count": null,
   "metadata": {
    "scrolled": false
   },
   "outputs": [],
   "source": [
    "plt.figure(figsize=(6,4))\n",
    "sns.kdeplot(stats_promo['total'])"
   ]
  },
  {
   "cell_type": "code",
   "execution_count": null,
   "metadata": {
    "scrolled": false
   },
   "outputs": [],
   "source": [
    "p = practicals[raw_files.index(practical_nb.value)]\n",
    "\n",
    "p[p.columns[4: -3]].plot(kind='density', figsize=(8, (len(p.columns) / 1.5)), subplots=True, xlim=(0, 2), ylim=(0, 1))\n",
    "plt.show()"
   ]
  }
 ],
 "metadata": {
  "kernelspec": {
   "display_name": "Python 3",
   "language": "python",
   "name": "python3"
  },
  "language_info": {
   "codemirror_mode": {
    "name": "ipython",
    "version": 3
   },
   "file_extension": ".py",
   "mimetype": "text/x-python",
   "name": "python",
   "nbconvert_exporter": "python",
   "pygments_lexer": "ipython3",
   "version": "3.7.1"
  }
 },
 "nbformat": 4,
 "nbformat_minor": 2
}
