{
 "cells": [
  {
   "cell_type": "code",
   "execution_count": null,
   "metadata": {},
   "outputs": [],
   "source": [
    "import pandas as pd\n",
    "import matplotlib.pyplot as plt\n",
    "import numpy as np\n",
    "import seaborn as sns\n",
    "import ipywidgets as widgets\n",
    "import glob\n",
    "import os\n",
    "from IPython.display import clear_output\n",
    "from IPython.display import display\n",
    "\n",
    "# If you want to widen the page\n",
    "# you can modify *width* to the one you prefer\n",
    "\n",
    "from IPython.core.display import display, HTML\n",
    "display(HTML(\"<style>.container { width:80% !important; }</style>\"))"
   ]
  },
  {
   "cell_type": "code",
   "execution_count": null,
   "metadata": {},
   "outputs": [],
   "source": [
    "from pydrive.auth import GoogleAuth\n",
    "from pydrive.drive import GoogleDrive\n",
    "\n",
    "def download_sheets(_):\n",
    "    try:\n",
    "        gauth = GoogleAuth()\n",
    "        gauth.LocalWebserverAuth()\n",
    "\n",
    "        drive = GoogleDrive(gauth)\n",
    "\n",
    "        file_list = drive.ListFile({'q': \"mimeType='application/vnd.google-apps.spreadsheet' and sharedWithMe and 'cboullay@gmail.com' in writers and (title contains 'TP-NOTE' or title contains 'CAML' or title contains 'C#')\"}).GetList()\n",
    "        for file1 in file_list:\n",
    "            file1.GetContentFile('sheets/' + file1['title'] + '.xlsx', mimetype='application/vnd.openxmlformats-officedocument.spreadsheetml.sheet')\n",
    "            print('Downloaded {}'.format(file1['title']))\n",
    "\n",
    "        print('Done')\n",
    "    except:\n",
    "        print(\"You're missing the client_secrets.json file, go check the README\")\n",
    "    \n",
    "def on_button_click(_):\n",
    "    print('Hello')\n",
    "        \n",
    "button = widgets.Button(\n",
    "    description='Download sheets',\n",
    "    disabled=False,\n",
    "    button_style='', # 'success', 'info', 'warning', 'danger' or ''\n",
    "    tooltip='download all correction sheets from your google drive',\n",
    ")\n",
    "\n",
    "button.on_click(download_sheets)\n",
    "\n",
    "display(button)"
   ]
  },
  {
   "cell_type": "code",
   "execution_count": null,
   "metadata": {
    "scrolled": true
   },
   "outputs": [],
   "source": [
    "# Get files\n",
    "files = [f for f in glob.glob(os.getcwd() + \"/sheets/*.xlsx\")]\n",
    "raw_files = [f.split('/')[-1].split('\\\\')[-1] for f in files]\n",
    "\n",
    "# Because I can.\n",
    "practical_nb = widgets.Dropdown(\n",
    "    options=raw_files,\n",
    "    value=raw_files[0],\n",
    "    rows=10,\n",
    "    description='practical:',\n",
    "    disabled=False\n",
    ")\n",
    "\n",
    "def read_practical(file):\n",
    "    # Practical selection\n",
    "\n",
    "    TP = pd.ExcelFile(file)\n",
    "\n",
    "    # Grade Processing\n",
    "\n",
    "    df = dict()\n",
    "    for sheet in TP.sheet_names[1:]:\n",
    "        df[sheet] = TP.parse(sheet, header=None)\n",
    "\n",
    "    # Getting all the different exercises\n",
    "    cols = []\n",
    "\n",
    "    for i in range(len(df['promo'].loc[0])):\n",
    "            exercise = str(df['promo'].loc[int(str(df['promo'].loc[0][i]) == 'nan')][i]) # append second line if first line is nan\n",
    "            while (exercise in cols and str(exercise) != 'nan'):\n",
    "                exercise += \"_\"\n",
    "            cols.append(exercise)\n",
    "            \n",
    "    # Grouping columns two by two, so that each column represent one exercise\n",
    "    for i in range(len(cols)):\n",
    "        if str(cols[i]) == 'nan':\n",
    "            cols[i] = cols[i-1] + \"_to_drop\"\n",
    "            \n",
    "    cols[0] = 'login' # Just in case someone forgets...\n",
    "\n",
    "    promo = pd.DataFrame()\n",
    "\n",
    "    # Data cleaning for every sheet in the .xlsx\n",
    "    for sheet in TP.sheet_names[2 - ('CTRL' in file or 'PART' in file):]:\n",
    "        df[sheet].columns = cols\n",
    "        df[sheet].drop([0, 1, 2], inplace=True)\n",
    "        df[sheet][cols[4:-2]] = df[sheet][cols[4:-2]].apply(lambda a: pd.to_numeric(a, errors='coerce'))\n",
    "        df[sheet].set_index('login', inplace=True)\n",
    "        df[sheet]['corrector'].fillna(method='ffill', inplace=True)\n",
    "        df[sheet].fillna(0, inplace=True)\n",
    "        for i in range(4, len(cols) - 3, 2):\n",
    "            df[sheet][cols[i]] += df[sheet][cols[i+1]]\n",
    "            df[sheet][cols[i]].apply(lambda a: a if a <= 2 else 2) # Check typo in grades\n",
    "        df[sheet].drop(cols[5:-2:2], axis=1, inplace = True)\n",
    "        df[sheet]['total'] = df[sheet][cols[4:-2:2]].sum(axis=1) / (len(cols) - 6) * 100\n",
    "        promo = pd.concat([promo, df[sheet]])\n",
    "    return promo\n",
    "\n",
    "practicals = [read_practical(f) for f in files]"
   ]
  },
  {
   "cell_type": "raw",
   "metadata": {},
   "source": [
    "# Visualization part"
   ]
  },
  {
   "cell_type": "code",
   "execution_count": null,
   "metadata": {},
   "outputs": [],
   "source": [
    "display(practical_nb)"
   ]
  },
  {
   "cell_type": "code",
   "execution_count": null,
   "metadata": {
    "scrolled": false
   },
   "outputs": [],
   "source": [
    "# Normalization\n",
    "\n",
    "print(files[raw_files.index(practical_nb.value)])\n",
    "\n",
    "stats_promo = practicals[raw_files.index(practical_nb.value)].groupby(['gr']).mean()\n",
    "stats_promo.loc[:, stats_promo.columns != 'total'] *= 50 # Everything is in % now"
   ]
  },
  {
   "cell_type": "code",
   "execution_count": null,
   "metadata": {},
   "outputs": [],
   "source": [
    "# Overview of exercise succes for each class\n",
    "\n",
    "plt.figure(figsize=(len(stats_promo.columns),8))\n",
    "sns.heatmap(stats_promo, vmin=0, vmax=100, annot=True, cmap='Greens')"
   ]
  },
  {
   "cell_type": "code",
   "execution_count": null,
   "metadata": {
    "scrolled": false
   },
   "outputs": [],
   "source": [
    "plt.figure(figsize=(6,4))\n",
    "sns.kdeplot(stats_promo['total'])"
   ]
  },
  {
   "cell_type": "code",
   "execution_count": null,
   "metadata": {
    "scrolled": false
   },
   "outputs": [],
   "source": [
    "p = practicals[raw_files.index(practical_nb.value)]\n",
    "\n",
    "p[p.columns[4: -3]].plot(kind='density', figsize=(8, (len(p.columns) / 1.5)), subplots=True, xlim=(0, 2), ylim=(0, 1))\n",
    "plt.show()"
   ]
  },
  {
   "cell_type": "code",
   "execution_count": null,
   "metadata": {},
   "outputs": [],
   "source": [
    "group_choice = widgets.Dropdown(\n",
    "    options=practicals[0]['gr'].unique(),\n",
    "    value=practicals[0]['gr'].unique()[0],\n",
    "    rows=10,\n",
    "    description='group:',\n",
    "    disabled=False\n",
    ")\n",
    "\n",
    "student_choice = widgets.Dropdown(\n",
    "    options=practicals[0][practicals[0]['gr'] == group_choice.value].index.tolist() + ['nope'],\n",
    "    value=practicals[0][practicals[0]['gr'] == group_choice.value].index[0],\n",
    "    rows=10,\n",
    "    description='student:',\n",
    "    disabled=False\n",
    ")\n",
    "\n",
    "practical_choice = widgets.SelectMultiple(\n",
    "    options=raw_files,\n",
    "    value=raw_files,\n",
    "    rows=10,\n",
    "    description='practicals:',\n",
    "    disabled=False\n",
    ")\n",
    "\n",
    "def on_change(change):\n",
    "    if change['type'] == 'change' and change['name'] == 'value':\n",
    "        student_choice.value = 'nope'\n",
    "        student_choice.options = practicals[0][practicals[0]['gr'] == group_choice.value].index.tolist() + ['nope']\n",
    "        student_choice.value = student_choice.options[0]\n",
    "        clear_output()\n",
    "        display(group_choice)\n",
    "        display(student_choice)\n",
    "        \n",
    "def on_student_change(change):\n",
    "    if change['type'] == 'change' and change['name'] == 'value':\n",
    "        print(\"changed to %s\" % change['new'])\n",
    "\n",
    "group_choice.observe(on_change)\n",
    "student_choice.observe(on_student_change)\n",
    "\n"
   ]
  },
  {
   "cell_type": "code",
   "execution_count": null,
   "metadata": {
    "scrolled": false
   },
   "outputs": [],
   "source": [
    "display(group_choice)\n",
    "display(student_choice)"
   ]
  },
  {
   "cell_type": "code",
   "execution_count": null,
   "metadata": {},
   "outputs": [],
   "source": []
  },
  {
   "cell_type": "code",
   "execution_count": null,
   "metadata": {},
   "outputs": [],
   "source": [
    "student_grades = pd.DataFrame([practicals[i].loc[student_choice.value, ['total']].append(pd.Series([raw_files[i].split('.')[0]], ['TP'])) for i in range(len(raw_files))])\n",
    "student_grades"
   ]
  },
  {
   "cell_type": "code",
   "execution_count": null,
   "metadata": {},
   "outputs": [],
   "source": [
    "plt.plot(student_grades['total'])"
   ]
  },
  {
   "cell_type": "code",
   "execution_count": null,
   "metadata": {},
   "outputs": [],
   "source": []
  },
  {
   "cell_type": "code",
   "execution_count": null,
   "metadata": {},
   "outputs": [],
   "source": []
  },
  {
   "cell_type": "code",
   "execution_count": null,
   "metadata": {},
   "outputs": [],
   "source": [
    "from bokeh.plotting import output_notebook\n",
    "\n",
    "output_notebook()"
   ]
  },
  {
   "cell_type": "code",
   "execution_count": null,
   "metadata": {},
   "outputs": [],
   "source": [
    "from bokeh.io import show\n",
    "from bokeh.models.widgets import Select\n",
    "from bokeh.layouts import row\n",
    "from bokeh.models.callbacks import CustomJS\n",
    "\n",
    "select_sheet = Select(title='Sheets', options=raw_files)\n",
    "select_group = Select(title='Group', options=practicals[0]['gr'].unique().tolist())\n",
    "select_student = Select(title='Student', options=practicals[0][practicals[0]['gr'] == group_choice.value].index.tolist())\n",
    "\n",
    "def change(attr, old, new):\n",
    "    print('hello')\n",
    "\n",
    "select_group.on_change('value', change)\n",
    "\n",
    "show(row(select_group, select_student, select_sheet))"
   ]
  },
  {
   "cell_type": "code",
   "execution_count": null,
   "metadata": {},
   "outputs": [],
   "source": [
    "from bokeh.models import ColumnDataSource\n",
    "from bokeh.plotting import figure\n",
    "\n",
    "student_grades['color'] = student_grades.total.apply (lambda grade: 'blue' if grade > 95 else 'red')\n",
    "\n",
    "source = ColumnDataSource(student_grades)\n",
    "averages = [practicals[raw_files.index(i)].mean()['total'] for i in raw_files]\n",
    "\n",
    "p = figure(y_range=student_grades['TP'])\n",
    "p.hbar(y='TP', source=source, left=0, right='total', color='color', height=0.5)\n",
    "\n",
    "show(p)"
   ]
  },
  {
   "cell_type": "code",
   "execution_count": null,
   "metadata": {},
   "outputs": [],
   "source": []
  },
  {
   "cell_type": "code",
   "execution_count": null,
   "metadata": {},
   "outputs": [],
   "source": []
  },
  {
   "cell_type": "code",
   "execution_count": null,
   "metadata": {},
   "outputs": [],
   "source": []
  },
  {
   "cell_type": "code",
   "execution_count": null,
   "metadata": {},
   "outputs": [],
   "source": []
  },
  {
   "cell_type": "code",
   "execution_count": null,
   "metadata": {},
   "outputs": [],
   "source": [
    "from bokeh.models.glyphs import HBar\n",
    "\n",
    "def group_change(attr, old, new):\n",
    "    s.select_student.options = practicals[0][practicals[0]['gr'] == new].index.tolist()\n",
    "    s.select_group.value = new\n",
    "    \n",
    "def student_change(attr, old, new):\n",
    "    s.select_student.value = new\n",
    "    \n",
    "def sheet_change(attr, old, new):\n",
    "    s.select_sheet.value = new\n",
    "\n",
    "class selectors():\n",
    "    source = ColumnDataSource(student_grades)\n",
    "\n",
    "    select_sheet = Select(title='Sheets', options=raw_files, value=raw_files[0])\n",
    "    select_group = Select(title='Group', options=practicals[0]['gr'].unique().tolist())\n",
    "    select_group.value = select_group.options[0]\n",
    "    select_student = Select(title='Student', options=practicals[0][practicals[0]['gr'] == select_group.value].index.tolist())\n",
    "    select_student.value = select_student.options[0]\n",
    "    \n",
    "    select_group.on_change('value', group_change)\n",
    "    select_sheet.on_change('value', sheet_change)\n",
    "    select_student.on_change('value', student_change)\n",
    "    \n",
    "s = selectors()\n",
    "    \n",
    "def plaf(doc):\n",
    "    doc.add_root(row(s.select_group, s.select_student, s.select_sheet))"
   ]
  },
  {
   "cell_type": "code",
   "execution_count": null,
   "metadata": {},
   "outputs": [],
   "source": [
    "show(plaf, notebook_url='http://localhost:8889')"
   ]
  },
  {
   "cell_type": "code",
   "execution_count": null,
   "metadata": {},
   "outputs": [],
   "source": [
    "from bokeh.models.glyphs import HBar\n",
    "\n",
    "student_grades = pd.DataFrame([practicals[i].loc[s.select_student.value, ['total']].append(pd.Series([raw_files[i].split('.')[0]], ['TP'])) for i in range(len(raw_files))])\n",
    "\n",
    "student_grades['color'] = student_grades.total.apply (lambda grade: 'blue' if grade > 95 else 'red')\n",
    "\n",
    "source = ColumnDataSource(student_grades)\n",
    "averages = [practicals[raw_files.index(i)].mean()['total'] for i in raw_files]\n",
    "\n",
    "class bar():\n",
    "    def __init__(self):\n",
    "        self.p = figure(y_range=student_grades['TP'])\n",
    "        self.glyph = HBar(y=\"TP\", right=\"total\", left=0, height=0.5, fill_color=\"#b3de69\")\n",
    "        self.p.add_glyph(source, self.glyph)\n",
    "    \n",
    "    def display(self):\n",
    "        show(self.p)"
   ]
  },
  {
   "cell_type": "code",
   "execution_count": null,
   "metadata": {},
   "outputs": [],
   "source": [
    "b = bar()\n",
    "\n",
    "b.display()"
   ]
  },
  {
   "cell_type": "code",
   "execution_count": null,
   "metadata": {},
   "outputs": [],
   "source": []
  },
  {
   "cell_type": "code",
   "execution_count": null,
   "metadata": {},
   "outputs": [],
   "source": [
    "from bokeh.models import LinearColorMapper, BasicTicker, PrintfTickFormatter, ColorBar\n",
    "\n",
    "data = {'exo' : [], 'group' : [], 'total' : []}\n",
    "\n",
    "for index, cols in stats_promo.iterrows():\n",
    "    for practical in stats_promo.columns:\n",
    "        data['exo'].append(practical)\n",
    "        data['group'].append(index)\n",
    "        data['total'].append(stats_promo[practical][index])\n",
    "        \n",
    "tp_stats = pd.DataFrame(data=data)\n",
    "practical = raw_files[0]\n",
    "practical = practical.split('.')[0]\n",
    "\n",
    "colors = [\"#ea9999\", \"#f4c7c3\", \"#fce8b2\", \"#b7e1cd\", \"#57bb8a\"]\n",
    "mapper = LinearColorMapper(palette=colors, low=tp_stats.total.min(), high=tp_stats.total.max())\n",
    "\n",
    "p = figure(title=\"Class averages for practical: {0}\".format(practical),\n",
    "           x_range=stats_promo.columns.tolist(), y_range=[index for index, cols in stats_promo.iterrows()][::-1],\n",
    "           x_axis_location=\"above\", plot_width=1200, plot_height=600,\n",
    "           tools=\"\", toolbar_location='below',\n",
    "           tooltips=[('group', '@group'), ('mean', '@total')])\n",
    "\n",
    "p.axis.axis_line_color = None\n",
    "p.axis.major_tick_line_color = None\n",
    "p.axis.major_label_text_font_size = \"10pt\"\n",
    "p.axis.major_label_standoff = 0\n",
    "\n",
    "p.rect(x=\"exo\", y=\"group\", width=1, height=1,\n",
    "       source=tp_stats,\n",
    "       fill_color={'field': 'total', 'transform': mapper},\n",
    "       line_color='white')\n",
    "\n",
    "color_bar = ColorBar(color_mapper=mapper, major_label_text_font_size=\"8pt\",\n",
    "                     ticker=BasicTicker(desired_num_ticks=len(colors)),\n",
    "                     formatter=PrintfTickFormatter(format=\"%d%%\"),\n",
    "                     label_standoff=8, border_line_color=None, location=(0, 0))\n",
    "p.add_layout(color_bar, 'right')\n",
    "\n",
    "show(p)      # show the plot"
   ]
  },
  {
   "cell_type": "code",
   "execution_count": null,
   "metadata": {},
   "outputs": [],
   "source": [
    "\n"
   ]
  },
  {
   "cell_type": "code",
   "execution_count": null,
   "metadata": {},
   "outputs": [],
   "source": []
  },
  {
   "cell_type": "code",
   "execution_count": null,
   "metadata": {},
   "outputs": [],
   "source": []
  },
  {
   "cell_type": "code",
   "execution_count": null,
   "metadata": {},
   "outputs": [],
   "source": []
  }
 ],
 "metadata": {
  "kernelspec": {
   "display_name": "Python 3",
   "language": "python",
   "name": "python3"
  },
  "language_info": {
   "codemirror_mode": {
    "name": "ipython",
    "version": 3
   },
   "file_extension": ".py",
   "mimetype": "text/x-python",
   "name": "python",
   "nbconvert_exporter": "python",
   "pygments_lexer": "ipython3",
   "version": "3.7.1"
  }
 },
 "nbformat": 4,
 "nbformat_minor": 2
}
